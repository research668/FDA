{
 "cells": [
  {
   "cell_type": "code",
   "execution_count": 1,
   "metadata": {},
   "outputs": [],
   "source": [
    "import numpy as np\n",
    "import pandas as pd\n",
    "import matplotlib.pyplot as plt\n",
    "import method_function_adjust as mf\n",
    "from tqdm import tqdm\n",
    "from sklearn.metrics import r2_score\n",
    "import statsmodels.api as sm\n",
    "\n",
    "# suppress all warnings\n",
    "import warnings\n",
    "warnings.filterwarnings(\"ignore\")"
   ]
  },
  {
   "cell_type": "code",
   "execution_count": 2,
   "metadata": {},
   "outputs": [
    {
     "data": {
      "text/plain": [
       "(1115, 629, 8)"
      ]
     },
     "execution_count": 2,
     "metadata": {},
     "output_type": "execute_result"
    }
   ],
   "source": [
    "#load data\n",
    "feature = np.load(\"..//np_files//feature.npy\")\n",
    "label = np.load(\"..//np_files//label.npy\")\n",
    "feature_with_constant = np.ones((feature.shape[0],feature.shape[1],feature.shape[2]+1))\n",
    "feature_with_constant[:,:,1:] = feature\n",
    "feature_with_constant.shape"
   ]
  },
  {
   "cell_type": "code",
   "execution_count": null,
   "metadata": {},
   "outputs": [],
   "source": [
    "#rolling validation    \n",
    "#N = 20\n",
    "for N in [15]:\n",
    "    cost = [] # store the out-of-sample cost\n",
    "    decision = [] # store the out-of-sample decision\n",
    "    true_decision = [] # store the optimal decision\n",
    "    alpha_list = [] # store the alpha\n",
    "    time = [] # store the running time\n",
    "    cost_name = ['decentralised_ols','shrunken_saa','Random Forest',\n",
    "                'shrunken_non_linear','DAC','PAB_linear',\n",
    "                'PAB_tree','centralised_ols','shrunken_ols']\n",
    "    for inital_point in tqdm(range(0,label.shape[1] - N )):\n",
    "        # print(inital_point)\n",
    "        test_point = inital_point + N\n",
    "        \n",
    "        # obtain valid historical data and test data\n",
    "        X_hats = []\n",
    "        y_hats = []\n",
    "        X_test = []\n",
    "        y_test = []\n",
    "        X_PAB = feature_with_constant[:,inital_point:inital_point + N,:]\n",
    "        y_PAB = label[:,inital_point:inital_point + N]\n",
    "        for k in range(label.shape[0]):\n",
    "            X_temp = []\n",
    "            y_temp = []\n",
    "            X_test.append(feature_with_constant[k,test_point])\n",
    "            y_test.append(label[k,test_point])\n",
    "            for j in range(inital_point,inital_point + N):\n",
    "                if label[k,j] != 0:\n",
    "                    y_temp.append(label[k,j])\n",
    "                    X_temp.append(feature_with_constant[k,j])\n",
    "            X_hats.append(np.array(X_temp))\n",
    "            y_hats.append(np.array(y_temp))\n",
    "\n",
    "        true_decision.append(y_test)\n",
    "        # obtain the out-of-sample cost\n",
    "        cost_temp,decision_temp,time_temp,alpha = mf.main(X_hats,y_hats, X_test,y_test,X_PAB,y_PAB)\n",
    "        cost.append(cost_temp)\n",
    "        decision.append(decision_temp)\n",
    "        alpha_list.append(alpha)\n",
    "        time.append(time_temp)\n",
    "    cost = np.array(cost)\n",
    "    decision = np.array(decision)\n",
    "    time = np.array(time)\n",
    "    alpha_list = np.array(alpha_list)"
   ]
  }
 ],
 "metadata": {
  "kernelspec": {
   "display_name": "Python 3.10.9 ('base')",
   "language": "python",
   "name": "python3"
  },
  "language_info": {
   "codemirror_mode": {
    "name": "ipython",
    "version": 3
   },
   "file_extension": ".py",
   "mimetype": "text/x-python",
   "name": "python",
   "nbconvert_exporter": "python",
   "pygments_lexer": "ipython3",
   "version": "3.10.9"
  },
  "orig_nbformat": 4,
  "vscode": {
   "interpreter": {
    "hash": "596fdadd29b372637a8514aed73330d6c9d18319b553bb608f063ba205c13ba6"
   }
  }
 },
 "nbformat": 4,
 "nbformat_minor": 2
}
